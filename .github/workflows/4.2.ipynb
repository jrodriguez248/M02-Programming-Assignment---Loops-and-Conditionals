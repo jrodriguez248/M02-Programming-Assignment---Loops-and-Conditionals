{
 "cells": [
  {
   "cell_type": "code",
   "execution_count": 16,
   "id": "d1fe3915",
   "metadata": {},
   "outputs": [
    {
     "name": "stdout",
     "output_type": "stream",
     "text": [
      "The pea is small but not green.\n"
     ]
    }
   ],
   "source": [
    "small = True\n",
    "green = False\n",
    "fruit = \"pea\"\n",
    "if small and green:\n",
    "    print(f\"The {fruit} is small and green.\")\n",
    "elif small and not green:\n",
    "    print(f\"The {fruit} is small but not green.\")\n",
    "elif not small and green:\n",
    "    print(f\"The {fruit} is not small but is green.\")\n",
    "else:\n",
    "    print(f\"The {fruit} is neither small nor green.\")"
   ]
  },
  {
   "cell_type": "code",
   "execution_count": null,
   "id": "2f587bb0",
   "metadata": {},
   "outputs": [],
   "source": []
  }
 ],
 "metadata": {
  "kernelspec": {
   "display_name": "Python 3 (ipykernel)",
   "language": "python",
   "name": "python3"
  },
  "language_info": {
   "codemirror_mode": {
    "name": "ipython",
    "version": 3
   },
   "file_extension": ".py",
   "mimetype": "text/x-python",
   "name": "python",
   "nbconvert_exporter": "python",
   "pygments_lexer": "ipython3",
   "version": "3.10.9"
  }
 },
 "nbformat": 4,
 "nbformat_minor": 5
}
